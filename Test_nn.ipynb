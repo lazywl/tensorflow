{
 "cells": [
  {
   "cell_type": "code",
   "execution_count": 1,
   "metadata": {
    "collapsed": false
   },
   "outputs": [
    {
     "name": "stderr",
     "output_type": "stream",
     "text": [
      "/root/anaconda2/lib/python2.7/site-packages/matplotlib/collections.py:590: FutureWarning: elementwise comparison failed; returning scalar instead, but in the future will perform elementwise comparison\n",
      "  if self._edgecolors == str('face'):\n",
      "/root/anaconda2/lib/python2.7/site-packages/matplotlib/backend_bases.py:2399: MatplotlibDeprecationWarning: Using default event loop until function specific to this GUI is implemented\n",
      "  warnings.warn(str, mplDeprecation)\n"
     ]
    }
   ],
   "source": [
    "import tensorflow as tf\n",
    "import numpy as np\n",
    "import matplotlib.pyplot as plt\n",
    "def add_layer(inputs,in_size,out_size,activation_function = None ):\n",
    "    Weights = tf.Variable(tf.random_normal([in_size,out_size]))\n",
    "    biases = tf.Variable(tf.zeros([1,out_size]) + 0.1)\n",
    "    Wx_plus_bias = tf.add(tf.matmul(inputs,Weights) , biases)\n",
    "    if activation_function is None:\n",
    "        output = Wx_plus_bias\n",
    "    else:\n",
    "        output = activation_function(Wx_plus_bias)\n",
    "    return output\n",
    "\n",
    "\n",
    "x_data = np.linspace(-1,1,300)[:,np.newaxis]\n",
    "noise = np.random.normal(0,0.5,x_data.shape)\n",
    "y_data = np.square(x_data) - 0.5 + noise\n",
    "\n",
    "xs = tf.placeholder(tf.float32,[None,1])\n",
    "ys = tf.placeholder(tf.float32,[None,1])\n",
    "\n",
    "l1 = add_layer(xs,1,10,activation_function=tf.nn.relu)\n",
    "predict = add_layer(l1,10,1)\n",
    "\n",
    "loss = tf.reduce_mean(tf.reduce_sum(tf.square(predict - ys),reduction_indices=[1]))\n",
    "train_step = tf.train.GradientDescentOptimizer(0.1).minimize(loss)\n",
    "\n",
    "init = tf.initialize_all_variables()\n",
    "sess = tf.Session()\n",
    "sess.run(init)\n",
    "\n",
    "fig = plt.figure()\n",
    "ax = fig.add_subplot(1,1,1)\n",
    "ax.scatter(x_data,y_data)\n",
    "#plt.ion()\n",
    "plt.show(block = False)\n",
    "\n",
    "\n",
    "for i in range(1000):\n",
    "    # training\n",
    "    sess.run(train_step, feed_dict={xs: x_data, ys: y_data})\n",
    "    if i % 50 == 0:\n",
    "        # to see the step improvement\n",
    "        #print sess.run(loss, feed_dict={xs: x_data, ys: y_data})\n",
    "        try:\n",
    "            ax.lines.remove(lines[0])\n",
    "        except Exception:\n",
    "            pass\n",
    "        predict_value = sess.run(predict,feed_dict={xs:x_data})\n",
    "        lines = ax.plot(x_data,predict_value,'r-',lw = 5)\n",
    "        plt.pause(0.2)"
   ]
  }
 ],
 "metadata": {
  "kernelspec": {
   "display_name": "Python 2",
   "language": "python",
   "name": "python2"
  },
  "language_info": {
   "codemirror_mode": {
    "name": "ipython",
    "version": 2
   },
   "file_extension": ".py",
   "mimetype": "text/x-python",
   "name": "python",
   "nbconvert_exporter": "python",
   "pygments_lexer": "ipython2",
   "version": "2.7.10"
  }
 },
 "nbformat": 4,
 "nbformat_minor": 0
}
