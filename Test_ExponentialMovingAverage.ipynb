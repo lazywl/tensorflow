{
 "cells": [
  {
   "cell_type": "code",
   "execution_count": 10,
   "metadata": {
    "collapsed": false,
    "scrolled": true
   },
   "outputs": [
    {
     "name": "stdout",
     "output_type": "stream",
     "text": [
      "[0.0, 0.0]\n",
      "[5.0, 4.5]\n",
      "[10.0, 4.5549998]\n",
      "[10.0, 4.6094499]\n"
     ]
    }
   ],
   "source": [
    "# -*- coding:utf-8 -*-\n",
    "import tensorflow as tf\n",
    "\n",
    "#define a variable to caculate ExponentialMovingAverage\n",
    "v1 = tf.Variable(0,dtype=tf.float32)\n",
    "\n",
    "step = tf.Variable(0,trainable=False)\n",
    "\n",
    "ema = tf.train.ExponentialMovingAverage(0.99,step)\n",
    "\n",
    "maintain_average_op = ema.apply([v1])\n",
    "with tf.Session() as sess:\n",
    "    #init all variable\n",
    "    init_op = tf.global_variables_initializer()\n",
    "    sess.run(init_op)\n",
    "    \n",
    "    #use ema.average to get ExponentialMovingAverage of v1\n",
    "    #at first v1 and shadow_v1 is 0\n",
    "    print sess.run([v1,ema.average(v1)])\n",
    "    \n",
    "    #set v1 = 5\n",
    "    #decay = min(0.99,(1+step)/(10+step)=0.1) = 0.1\n",
    "    sess.run(tf.assign(v1,5))\n",
    "    sess.run(maintain_average_op)\n",
    "    print sess.run([v1,ema.average(v1)])\n",
    "    \n",
    "    #set step=10000\n",
    "    #set v1 = 10\n",
    "    #decay = min(0.99,(1+step)/(10+step)=0.999) = 0.99\n",
    "    sess.run(tf.assign(step,10000))\n",
    "    sess.run(tf.assign(v1,10))\n",
    "    sess.run(maintain_average_op)\n",
    "    print sess.run([v1,ema.average(v1)])\n",
    "    \n",
    "    #get average again\n",
    "    sess.run(maintain_average_op)\n",
    "    print sess.run([v1,ema.average(v1)])\n",
    "    "
   ]
  },
  {
   "cell_type": "code",
   "execution_count": null,
   "metadata": {
    "collapsed": true
   },
   "outputs": [],
   "source": []
  }
 ],
 "metadata": {
  "kernelspec": {
   "display_name": "Python 2",
   "language": "python",
   "name": "python2"
  },
  "language_info": {
   "codemirror_mode": {
    "name": "ipython",
    "version": 2
   },
   "file_extension": ".py",
   "mimetype": "text/x-python",
   "name": "python",
   "nbconvert_exporter": "python",
   "pygments_lexer": "ipython2",
   "version": "2.7.10"
  }
 },
 "nbformat": 4,
 "nbformat_minor": 0
}
